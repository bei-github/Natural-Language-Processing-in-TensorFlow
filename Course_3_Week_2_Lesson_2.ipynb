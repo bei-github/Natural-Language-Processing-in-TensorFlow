{
  "nbformat": 4,
  "nbformat_minor": 0,
  "metadata": {
    "accelerator": "GPU",
    "colab": {
      "name": "Copy of Course 3 - Week 2 - Lesson 2.ipynb",
      "provenance": [],
      "collapsed_sections": [],
      "toc_visible": true,
      "include_colab_link": true
    },
    "kernelspec": {
      "display_name": "Python 3",
      "name": "python3"
    }
  },
  "cells": [
    {
      "cell_type": "markdown",
      "metadata": {
        "id": "view-in-github",
        "colab_type": "text"
      },
      "source": [
        "<a href=\"https://colab.research.google.com/github/bei-github/Natural-Language-Processing-in-TensorFlow/blob/master/Course_3_Week_2_Lesson_2.ipynb\" target=\"_parent\"><img src=\"https://colab.research.google.com/assets/colab-badge.svg\" alt=\"Open In Colab\"/></a>"
      ]
    },
    {
      "cell_type": "code",
      "metadata": {
        "id": "zX4Kg8DUTKWO",
        "colab_type": "code",
        "colab": {}
      },
      "source": [
        "#@title Licensed under the Apache License, Version 2.0 (the \"License\");\n",
        "# you may not use this file except in compliance with the License.\n",
        "# You may obtain a copy of the License at\n",
        "#\n",
        "# https://www.apache.org/licenses/LICENSE-2.0\n",
        "#\n",
        "# Unless required by applicable law or agreed to in writing, software\n",
        "# distributed under the License is distributed on an \"AS IS\" BASIS,\n",
        "# WITHOUT WARRANTIES OR CONDITIONS OF ANY KIND, either express or implied.\n",
        "# See the License for the specific language governing permissions and\n",
        "# limitations under the License."
      ],
      "execution_count": 0,
      "outputs": []
    },
    {
      "cell_type": "markdown",
      "metadata": {
        "colab_type": "text",
        "id": "view-in-github"
      },
      "source": [
        "<a href=\"https://colab.research.google.com/github/lmoroney/dlaicourse/blob/master/TensorFlow%20In%20Practice/Course%203%20-%20NLP/Course%203%20-%20Week%202%20-%20Lesson%202.ipynb\" target=\"_parent\"><img src=\"https://colab.research.google.com/assets/colab-badge.svg\" alt=\"Open In Colab\"/></a>"
      ]
    },
    {
      "cell_type": "code",
      "metadata": {
        "colab_type": "code",
        "id": "4gs9htvM7n_x",
        "colab": {}
      },
      "source": [
        "# Run this to ensure TensorFlow 2.x is used\n",
        "try:\n",
        "  # %tensorflow_version only exists in Colab.\n",
        "  %tensorflow_version 2.x\n",
        "except Exception:\n",
        "  pass"
      ],
      "execution_count": 0,
      "outputs": []
    },
    {
      "cell_type": "code",
      "metadata": {
        "colab_type": "code",
        "id": "XYYDvoskkE61",
        "colab": {}
      },
      "source": [
        "import json\n",
        "import tensorflow as tf\n",
        "\n",
        "from tensorflow.keras.preprocessing.text import Tokenizer\n",
        "from tensorflow.keras.preprocessing.sequence import pad_sequences"
      ],
      "execution_count": 0,
      "outputs": []
    },
    {
      "cell_type": "code",
      "metadata": {
        "colab_type": "code",
        "id": "0eJSTTYnkJQd",
        "colab": {}
      },
      "source": [
        "vocab_size = 10000\n",
        "embedding_dim = 16\n",
        "max_length = 100\n",
        "trunc_type='post'\n",
        "padding_type='post'\n",
        "oov_tok = \"<OOV>\"\n",
        "training_size = 20000\n"
      ],
      "execution_count": 0,
      "outputs": []
    },
    {
      "cell_type": "code",
      "metadata": {
        "colab_type": "code",
        "id": "BQVuQrZNkPn9",
        "outputId": "1e6480d8-04ab-4b6d-a014-45b1e1cdb72e",
        "colab": {
          "base_uri": "https://localhost:8080/",
          "height": 208
        }
      },
      "source": [
        "!wget --no-check-certificate \\\n",
        "    https://storage.googleapis.com/laurencemoroney-blog.appspot.com/sarcasm.json \\\n",
        "    -O /tmp/sarcasm.json\n"
      ],
      "execution_count": 6,
      "outputs": [
        {
          "output_type": "stream",
          "text": [
            "--2020-06-13 21:11:33--  https://storage.googleapis.com/laurencemoroney-blog.appspot.com/sarcasm.json\n",
            "Resolving storage.googleapis.com (storage.googleapis.com)... 74.125.135.128, 2607:f8b0:400e:c00::80\n",
            "Connecting to storage.googleapis.com (storage.googleapis.com)|74.125.135.128|:443... connected.\n",
            "HTTP request sent, awaiting response... 200 OK\n",
            "Length: 5643545 (5.4M) [application/json]\n",
            "Saving to: ‘/tmp/sarcasm.json’\n",
            "\n",
            "\r/tmp/sarcasm.json     0%[                    ]       0  --.-KB/s               \r/tmp/sarcasm.json   100%[===================>]   5.38M  --.-KB/s    in 0.1s    \n",
            "\n",
            "2020-06-13 21:11:33 (42.1 MB/s) - ‘/tmp/sarcasm.json’ saved [5643545/5643545]\n",
            "\n"
          ],
          "name": "stdout"
        }
      ]
    },
    {
      "cell_type": "code",
      "metadata": {
        "colab_type": "code",
        "id": "oaLaaqhNkUPd",
        "colab": {}
      },
      "source": [
        "with open(\"/tmp/sarcasm.json\", 'r') as f:\n",
        "    datastore = json.load(f)\n",
        "\n",
        "sentences = []\n",
        "labels = []\n",
        "\n",
        "for item in datastore:\n",
        "    sentences.append(item['headline'])\n",
        "    labels.append(item['is_sarcastic'])"
      ],
      "execution_count": 0,
      "outputs": []
    },
    {
      "cell_type": "code",
      "metadata": {
        "colab_type": "code",
        "id": "S1sD-7v0kYWk",
        "colab": {}
      },
      "source": [
        "training_sentences = sentences[0:training_size]\n",
        "testing_sentences = sentences[training_size:]\n",
        "training_labels = labels[0:training_size]\n",
        "testing_labels = labels[training_size:]"
      ],
      "execution_count": 0,
      "outputs": []
    },
    {
      "cell_type": "code",
      "metadata": {
        "colab_type": "code",
        "id": "3u8UB0MCkZ5N",
        "colab": {}
      },
      "source": [
        "tokenizer = Tokenizer(num_words=vocab_size, oov_token=oov_tok) #create a token with vocab_size words, and oov is for outer vocabulary\n",
        "tokenizer.fit_on_texts(training_sentences) #take the word in sentences and encode it\n",
        "\n",
        "#return a dictionary containing key value pairs: key -> word, value -> token for the word \n",
        "word_index = tokenizer.word_index\n",
        "\n",
        "training_sequences = tokenizer.texts_to_sequences(training_sentences) #turn the sentences into sequence\n",
        "#padding the sequence to equal length to make a matrix for CNN model\n",
        "training_padded = pad_sequences(training_sequences, maxlen=max_length, padding=padding_type, truncating=trunc_type)\n",
        "\n",
        "testing_sequences = tokenizer.texts_to_sequences(testing_sentences)\n",
        "testing_padded = pad_sequences(testing_sequences, maxlen=max_length, padding=padding_type, truncating=trunc_type)"
      ],
      "execution_count": 0,
      "outputs": []
    },
    {
      "cell_type": "code",
      "metadata": {
        "colab_type": "code",
        "id": "GrAlWBKf99Ya",
        "colab": {}
      },
      "source": [
        "# Need this block to get it to work with TensorFlow 2.x\n",
        "import numpy as np\n",
        "training_padded = np.array(training_padded)\n",
        "training_labels = np.array(training_labels)\n",
        "testing_padded = np.array(testing_padded)\n",
        "testing_labels = np.array(testing_labels)"
      ],
      "execution_count": 0,
      "outputs": []
    },
    {
      "cell_type": "code",
      "metadata": {
        "colab_type": "code",
        "id": "FufaT4vlkiDE",
        "colab": {}
      },
      "source": [
        "model = tf.keras.Sequential([\n",
        "    tf.keras.layers.Embedding(vocab_size, embedding_dim, input_length=max_length), #parameters num:16*10000\n",
        "    tf.keras.layers.GlobalAveragePooling1D(), #flatten: convert matrix into array, no parameters \n",
        "    tf.keras.layers.Dense(24, activation='relu'), #dense=activate(dot(input,kernel),bias), parameters num:16*24+24\n",
        "    \"\"\"\n",
        "    tf.keras.layers.Flatten(), #flatten: convert matrix into array, no parameters \n",
        "    tf.keras.layers.Dense(24, activation='relu'), #parameters num:16*24*100+24\n",
        "    \"\"\"\n",
        "    tf.keras.layers.Dense(1, activation='sigmoid') #parameters num: 24*1+1\n",
        "])\n",
        "model.compile(loss='binary_crossentropy',optimizer='adam',metrics=['accuracy'])"
      ],
      "execution_count": 0,
      "outputs": []
    },
    {
      "cell_type": "code",
      "metadata": {
        "colab_type": "code",
        "id": "XfDt1hmYkiys",
        "colab": {
          "base_uri": "https://localhost:8080/",
          "height": 295
        },
        "outputId": "26d657fd-921c-4c8f-d947-4d1841b4f56e"
      },
      "source": [
        "model.summary()\n"
      ],
      "execution_count": 12,
      "outputs": [
        {
          "output_type": "stream",
          "text": [
            "Model: \"sequential\"\n",
            "_________________________________________________________________\n",
            "Layer (type)                 Output Shape              Param #   \n",
            "=================================================================\n",
            "embedding (Embedding)        (None, 100, 16)           160000    \n",
            "_________________________________________________________________\n",
            "global_average_pooling1d (Gl (None, 16)                0         \n",
            "_________________________________________________________________\n",
            "dense (Dense)                (None, 24)                408       \n",
            "_________________________________________________________________\n",
            "dense_1 (Dense)              (None, 1)                 25        \n",
            "=================================================================\n",
            "Total params: 160,433\n",
            "Trainable params: 160,433\n",
            "Non-trainable params: 0\n",
            "_________________________________________________________________\n"
          ],
          "name": "stdout"
        }
      ]
    },
    {
      "cell_type": "code",
      "metadata": {
        "colab_type": "code",
        "id": "2DTKQFf1kkyc",
        "colab": {
          "base_uri": "https://localhost:8080/",
          "height": 1000
        },
        "outputId": "81768035-f29b-46e4-dc92-f13c67fb52db"
      },
      "source": [
        "num_epochs = 30\n",
        "#By setting verbose 0, 1 or 2 you just say how do you want to 'see' the training progress for each epoch.\n",
        "history = model.fit(training_padded, training_labels, epochs=num_epochs, validation_data=(testing_padded, testing_labels), verbose=2)"
      ],
      "execution_count": 13,
      "outputs": [
        {
          "output_type": "stream",
          "text": [
            "Epoch 1/30\n",
            "625/625 - 3s - loss: 0.6696 - accuracy: 0.5749 - val_loss: 0.6068 - val_accuracy: 0.6472\n",
            "Epoch 2/30\n",
            "625/625 - 3s - loss: 0.4548 - accuracy: 0.8243 - val_loss: 0.3922 - val_accuracy: 0.8360\n",
            "Epoch 3/30\n",
            "625/625 - 3s - loss: 0.3193 - accuracy: 0.8726 - val_loss: 0.3574 - val_accuracy: 0.8509\n",
            "Epoch 4/30\n",
            "625/625 - 3s - loss: 0.2660 - accuracy: 0.8957 - val_loss: 0.3729 - val_accuracy: 0.8348\n",
            "Epoch 5/30\n",
            "625/625 - 3s - loss: 0.2309 - accuracy: 0.9092 - val_loss: 0.3447 - val_accuracy: 0.8566\n",
            "Epoch 6/30\n",
            "625/625 - 3s - loss: 0.2024 - accuracy: 0.9234 - val_loss: 0.3546 - val_accuracy: 0.8557\n",
            "Epoch 7/30\n",
            "625/625 - 3s - loss: 0.1797 - accuracy: 0.9327 - val_loss: 0.3707 - val_accuracy: 0.8506\n",
            "Epoch 8/30\n",
            "625/625 - 3s - loss: 0.1608 - accuracy: 0.9403 - val_loss: 0.3808 - val_accuracy: 0.8512\n",
            "Epoch 9/30\n",
            "625/625 - 3s - loss: 0.1456 - accuracy: 0.9471 - val_loss: 0.3955 - val_accuracy: 0.8508\n",
            "Epoch 10/30\n",
            "625/625 - 3s - loss: 0.1304 - accuracy: 0.9535 - val_loss: 0.4194 - val_accuracy: 0.8468\n",
            "Epoch 11/30\n",
            "625/625 - 3s - loss: 0.1193 - accuracy: 0.9576 - val_loss: 0.4504 - val_accuracy: 0.8419\n",
            "Epoch 12/30\n",
            "625/625 - 3s - loss: 0.1084 - accuracy: 0.9638 - val_loss: 0.4602 - val_accuracy: 0.8450\n",
            "Epoch 13/30\n",
            "625/625 - 3s - loss: 0.1003 - accuracy: 0.9654 - val_loss: 0.4826 - val_accuracy: 0.8447\n",
            "Epoch 14/30\n",
            "625/625 - 3s - loss: 0.0929 - accuracy: 0.9681 - val_loss: 0.5110 - val_accuracy: 0.8402\n",
            "Epoch 15/30\n",
            "625/625 - 3s - loss: 0.0835 - accuracy: 0.9718 - val_loss: 0.5460 - val_accuracy: 0.8360\n",
            "Epoch 16/30\n",
            "625/625 - 3s - loss: 0.0753 - accuracy: 0.9761 - val_loss: 0.5690 - val_accuracy: 0.8371\n",
            "Epoch 17/30\n",
            "625/625 - 3s - loss: 0.0701 - accuracy: 0.9769 - val_loss: 0.6083 - val_accuracy: 0.8319\n",
            "Epoch 18/30\n",
            "625/625 - 3s - loss: 0.0651 - accuracy: 0.9789 - val_loss: 0.6388 - val_accuracy: 0.8301\n",
            "Epoch 19/30\n",
            "625/625 - 3s - loss: 0.0576 - accuracy: 0.9817 - val_loss: 0.6791 - val_accuracy: 0.8293\n",
            "Epoch 20/30\n",
            "625/625 - 3s - loss: 0.0533 - accuracy: 0.9840 - val_loss: 0.7170 - val_accuracy: 0.8272\n",
            "Epoch 21/30\n",
            "625/625 - 3s - loss: 0.0501 - accuracy: 0.9848 - val_loss: 0.7914 - val_accuracy: 0.8252\n",
            "Epoch 22/30\n",
            "625/625 - 3s - loss: 0.0464 - accuracy: 0.9853 - val_loss: 0.7804 - val_accuracy: 0.8247\n",
            "Epoch 23/30\n",
            "625/625 - 3s - loss: 0.0417 - accuracy: 0.9880 - val_loss: 0.8411 - val_accuracy: 0.8193\n",
            "Epoch 24/30\n",
            "625/625 - 3s - loss: 0.0383 - accuracy: 0.9887 - val_loss: 0.8544 - val_accuracy: 0.8231\n",
            "Epoch 25/30\n",
            "625/625 - 3s - loss: 0.0356 - accuracy: 0.9894 - val_loss: 0.8943 - val_accuracy: 0.8198\n",
            "Epoch 26/30\n",
            "625/625 - 3s - loss: 0.0337 - accuracy: 0.9902 - val_loss: 0.9476 - val_accuracy: 0.8188\n",
            "Epoch 27/30\n",
            "625/625 - 3s - loss: 0.0298 - accuracy: 0.9916 - val_loss: 0.9683 - val_accuracy: 0.8156\n",
            "Epoch 28/30\n",
            "625/625 - 3s - loss: 0.0270 - accuracy: 0.9918 - val_loss: 1.0441 - val_accuracy: 0.8156\n",
            "Epoch 29/30\n",
            "625/625 - 3s - loss: 0.0257 - accuracy: 0.9927 - val_loss: 1.0535 - val_accuracy: 0.8155\n",
            "Epoch 30/30\n",
            "625/625 - 3s - loss: 0.0231 - accuracy: 0.9934 - val_loss: 1.1093 - val_accuracy: 0.8156\n"
          ],
          "name": "stdout"
        }
      ]
    },
    {
      "cell_type": "code",
      "metadata": {
        "colab_type": "code",
        "id": "2HYfBKXjkmU8",
        "colab": {
          "base_uri": "https://localhost:8080/",
          "height": 541
        },
        "outputId": "989d0793-22e8-4f57-af8a-82936d71c68d"
      },
      "source": [
        "import matplotlib.pyplot as plt\n",
        "\n",
        "\n",
        "def plot_graphs(history, string):\n",
        "  plt.plot(history.history[string])\n",
        "  plt.plot(history.history['val_'+string])\n",
        "  plt.xlabel(\"Epochs\")\n",
        "  plt.ylabel(string)\n",
        "  plt.legend([string, 'val_'+string])\n",
        "  plt.show()\n",
        "  \n",
        "plot_graphs(history, \"accuracy\")\n",
        "plot_graphs(history, \"loss\")"
      ],
      "execution_count": 14,
      "outputs": [
        {
          "output_type": "display_data",
          "data": {
            "image/png": "[encoded data removed]",
            "text/plain": [
              "<Figure size 432x288 with 1 Axes>"
            ]
          },
          "metadata": {
            "tags": [],
            "needs_background": "light"
          }
        },
        {
          "output_type": "display_data",
          "data": {
            "image/png": "[encoded data removed]",
            "text/plain": [
              "<Figure size 432x288 with 1 Axes>"
            ]
          },
          "metadata": {
            "tags": [],
            "needs_background": "light"
          }
        }
      ]
    },
    {
      "cell_type": "code",
      "metadata": {
        "colab_type": "code",
        "id": "7SBdAZAenvzL",
        "colab": {
          "base_uri": "https://localhost:8080/",
          "height": 89
        },
        "outputId": "cd0fd581-e914-41be-e7f9-c5571f10d680"
      },
      "source": [
        "reverse_word_index = dict([(value, key) for (key, value) in word_index.items()])\n",
        "\n",
        "def decode_sentence(text):\n",
        "    return ' '.join([reverse_word_index.get(i, '?') for i in text])\n",
        "\n",
        "print(decode_sentence(training_padded[0]))\n",
        "print(training_sentences[2])\n",
        "print(labels[2])"
      ],
      "execution_count": 15,
      "outputs": [
        {
          "output_type": "stream",
          "text": [
            "former <OOV> store clerk sues over secret 'black <OOV> for minority shoppers ? ? ? ? ? ? ? ? ? ? ? ? ? ? ? ? ? ? ? ? ? ? ? ? ? ? ? ? ? ? ? ? ? ? ? ? ? ? ? ? ? ? ? ? ? ? ? ? ? ? ? ? ? ? ? ? ? ? ? ? ? ? ? ? ? ? ? ? ? ? ? ? ? ? ? ? ? ? ? ? ? ? ? ? ? ? ? ?\n",
            "mom starting to fear son's web series closest thing she will have to grandchild\n",
            "1\n"
          ],
          "name": "stdout"
        }
      ]
    },
    {
      "cell_type": "code",
      "metadata": {
        "colab_type": "code",
        "id": "c9MqihtEkzQ9",
        "colab": {
          "base_uri": "https://localhost:8080/",
          "height": 35
        },
        "outputId": "6d83cb32-afba-4c23-acac-182213d4b56b"
      },
      "source": [
        "e = model.layers[0]\n",
        "weights = e.get_weights()[0]\n",
        "print(weights.shape) # shape: (vocab_size, embedding_dim)\n"
      ],
      "execution_count": 16,
      "outputs": [
        {
          "output_type": "stream",
          "text": [
            "(10000, 16)\n"
          ],
          "name": "stdout"
        }
      ]
    },
    {
      "cell_type": "code",
      "metadata": {
        "colab_type": "code",
        "id": "LoBXVffknldU",
        "colab": {}
      },
      "source": [
        "import io\n",
        "\n",
        "out_v = io.open('vecs.tsv', 'w', encoding='utf-8')\n",
        "out_m = io.open('meta.tsv', 'w', encoding='utf-8')\n",
        "for word_num in range(1, vocab_size):\n",
        "  word = reverse_word_index[word_num]\n",
        "  embeddings = weights[word_num]\n",
        "  out_m.write(word + \"\\n\")\n",
        "  out_v.write('\\t'.join([str(x) for x in embeddings]) + \"\\n\")\n",
        "out_v.close()\n",
        "out_m.close()"
      ],
      "execution_count": 0,
      "outputs": []
    },
    {
      "cell_type": "code",
      "metadata": {
        "colab_type": "code",
        "id": "U4eZ5HtVnnEE",
        "colab": {}
      },
      "source": [
        "try:\n",
        "  from google.colab import files\n",
        "except ImportError:\n",
        "  pass\n",
        "else:\n",
        "  files.download('vecs.tsv')\n",
        "  files.download('meta.tsv')"
      ],
      "execution_count": 0,
      "outputs": []
    },
    {
      "cell_type": "code",
      "metadata": {
        "colab_type": "code",
        "id": "cG8-ArY-qDcz",
        "colab": {
          "base_uri": "https://localhost:8080/",
          "height": 52
        },
        "outputId": "a65c3fbf-bfb2-4295-b7d0-a6bdde3585a6"
      },
      "source": [
        "sentence = [\"granny starting to fear spiders in the garden might be real\", \"game of thrones season finale showing this sunday night\"]\n",
        "sequences = tokenizer.texts_to_sequences(sentence)\n",
        "padded = pad_sequences(sequences, maxlen=max_length, padding=padding_type, truncating=trunc_type)\n",
        "print(model.predict(padded))"
      ],
      "execution_count": 19,
      "outputs": [
        {
          "output_type": "stream",
          "text": [
            "[[9.053651e-01]\n",
            " [9.783797e-07]]\n"
          ],
          "name": "stdout"
        }
      ]
    }
  ]
}